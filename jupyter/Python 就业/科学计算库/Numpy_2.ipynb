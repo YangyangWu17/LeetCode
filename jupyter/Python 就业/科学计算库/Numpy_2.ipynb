{
 "cells": [
  {
   "cell_type": "code",
   "execution_count": 2,
   "metadata": {},
   "outputs": [],
   "source": [
    "import numpy as np"
   ]
  },
  {
   "cell_type": "markdown",
   "metadata": {},
   "source": [
    "# 逻辑运算"
   ]
  },
  {
   "cell_type": "code",
   "execution_count": 10,
   "metadata": {},
   "outputs": [
    {
     "data": {
      "text/plain": [
       "array([[ 0.92734192,  1.74724398, -0.4591395 , -0.38826131,  0.70415724,\n",
       "         0.75658673,  0.11598324,  1.97998045,  1.06613085,  1.19581041],\n",
       "       [ 0.34345517,  0.43627709, -1.05268756, -0.57782308,  2.97232362,\n",
       "        -0.95077058,  1.51311826, -1.38770297,  0.02797954, -0.32309498],\n",
       "       [ 0.149272  , -0.51020593, -0.12267105,  0.95785477, -1.77383082,\n",
       "         1.11387819, -1.68342161,  0.67008831, -1.09897752,  0.53804595],\n",
       "       [ 0.80693768,  0.62496037, -0.40051867, -0.82906962,  0.35797353,\n",
       "        -0.00458285, -1.42130049, -0.46162983, -0.22646213,  0.36602477],\n",
       "       [-0.87285471, -0.22971333, -1.66328658,  2.19328267,  0.7463275 ,\n",
       "         0.70196473,  0.94336252, -0.95709971, -0.77821873, -1.0463661 ],\n",
       "       [ 0.05554732,  0.97839213, -0.32649028,  0.86416856, -1.01597683,\n",
       "        -0.34487223, -0.21219342,  1.2773467 , -1.02767268, -0.17520231],\n",
       "       [ 0.29298336,  0.63274925,  0.86324219,  0.22427574, -1.0084398 ,\n",
       "         0.39575355,  0.49501133, -0.49168933, -0.08183584,  1.53708268],\n",
       "       [-0.03473031, -0.53662079,  0.25654712, -0.44904189, -0.49579534,\n",
       "         0.39400722, -0.20080393,  0.19772537,  0.65503658, -0.8394458 ]])"
      ]
     },
     "execution_count": 10,
     "metadata": {},
     "output_type": "execute_result"
    }
   ],
   "source": [
    "stock_change=np.random.normal(0,1,(8,10))\n",
    "stock_change"
   ]
  },
  {
   "cell_type": "code",
   "execution_count": 11,
   "metadata": {},
   "outputs": [
    {
     "data": {
      "text/plain": [
       "array([[ 0.92734192,  1.74724398, -0.4591395 , -0.38826131,  0.70415724],\n",
       "       [ 0.34345517,  0.43627709, -1.05268756, -0.57782308,  2.97232362],\n",
       "       [ 0.149272  , -0.51020593, -0.12267105,  0.95785477, -1.77383082],\n",
       "       [ 0.80693768,  0.62496037, -0.40051867, -0.82906962,  0.35797353],\n",
       "       [-0.87285471, -0.22971333, -1.66328658,  2.19328267,  0.7463275 ]])"
      ]
     },
     "execution_count": 11,
     "metadata": {},
     "output_type": "execute_result"
    }
   ],
   "source": [
    "stock_c=stock_change[0:5,0:5]\n",
    "stock_c"
   ]
  },
  {
   "cell_type": "code",
   "execution_count": 12,
   "metadata": {},
   "outputs": [
    {
     "data": {
      "text/plain": [
       "array([[False,  True, False, False, False],\n",
       "       [False, False, False, False,  True],\n",
       "       [False, False, False, False, False],\n",
       "       [False, False, False, False, False],\n",
       "       [False, False, False,  True, False]])"
      ]
     },
     "execution_count": 12,
     "metadata": {},
     "output_type": "execute_result"
    }
   ],
   "source": [
    "stock_c>1"
   ]
  },
  {
   "cell_type": "code",
   "execution_count": 15,
   "metadata": {},
   "outputs": [],
   "source": [
    "stock_c[stock_c>1]=2"
   ]
  },
  {
   "cell_type": "code",
   "execution_count": 16,
   "metadata": {},
   "outputs": [
    {
     "data": {
      "text/plain": [
       "array([[ 0.92734192,  2.        , -0.4591395 , -0.38826131,  0.70415724],\n",
       "       [ 0.34345517,  0.43627709, -1.05268756, -0.57782308,  2.        ],\n",
       "       [ 0.149272  , -0.51020593, -0.12267105,  0.95785477, -1.77383082],\n",
       "       [ 0.80693768,  0.62496037, -0.40051867, -0.82906962,  0.35797353],\n",
       "       [-0.87285471, -0.22971333, -1.66328658,  2.        ,  0.7463275 ]])"
      ]
     },
     "execution_count": 16,
     "metadata": {},
     "output_type": "execute_result"
    }
   ],
   "source": [
    "stock_c"
   ]
  },
  {
   "cell_type": "code",
   "execution_count": 24,
   "metadata": {},
   "outputs": [
    {
     "data": {
      "text/plain": [
       "array([[ 0.92734192,  2.        , -0.4591395 ],\n",
       "       [ 0.34345517,  0.43627709, -1.05268756]])"
      ]
     },
     "execution_count": 24,
     "metadata": {},
     "output_type": "execute_result"
    }
   ],
   "source": [
    "stock_d=stock_change[0:2,0:3]\n",
    "stock_d"
   ]
  },
  {
   "cell_type": "code",
   "execution_count": 20,
   "metadata": {},
   "outputs": [
    {
     "data": {
      "text/plain": [
       "False"
      ]
     },
     "execution_count": 20,
     "metadata": {},
     "output_type": "execute_result"
    }
   ],
   "source": [
    "np.all(stock_d>0)"
   ]
  },
  {
   "cell_type": "code",
   "execution_count": 21,
   "metadata": {},
   "outputs": [
    {
     "data": {
      "text/plain": [
       "True"
      ]
     },
     "execution_count": 21,
     "metadata": {},
     "output_type": "execute_result"
    }
   ],
   "source": [
    "np.any(stock_d>0)"
   ]
  },
  {
   "cell_type": "code",
   "execution_count": 22,
   "metadata": {},
   "outputs": [
    {
     "data": {
      "text/plain": [
       "array([[1, 1, 0],\n",
       "       [1, 1, 0]])"
      ]
     },
     "execution_count": 22,
     "metadata": {},
     "output_type": "execute_result"
    }
   ],
   "source": [
    "np.where(stock_d>0,1,0)"
   ]
  },
  {
   "cell_type": "code",
   "execution_count": 23,
   "metadata": {},
   "outputs": [
    {
     "data": {
      "text/plain": [
       "array([[0, 0, 1],\n",
       "       [1, 1, 0]])"
      ]
     },
     "execution_count": 23,
     "metadata": {},
     "output_type": "execute_result"
    }
   ],
   "source": [
    "np.where(np.logical_and(stock_d>-0.5,stock_d<0.5),1,0)"
   ]
  },
  {
   "cell_type": "code",
   "execution_count": 25,
   "metadata": {},
   "outputs": [
    {
     "data": {
      "text/plain": [
       "array([[2, 2, 0],\n",
       "       [2, 2, 2]])"
      ]
     },
     "execution_count": 25,
     "metadata": {},
     "output_type": "execute_result"
    }
   ],
   "source": [
    "np.where(np.logical_or(stock_d>0,stock_d<-1),2,0)"
   ]
  },
  {
   "cell_type": "markdown",
   "metadata": {},
   "source": [
    "# 统计计算"
   ]
  },
  {
   "cell_type": "code",
   "execution_count": 28,
   "metadata": {},
   "outputs": [
    {
     "data": {
      "text/plain": [
       "array([ 0.92734192,  2.        , -0.4591395 ])"
      ]
     },
     "execution_count": 28,
     "metadata": {},
     "output_type": "execute_result"
    }
   ],
   "source": [
    "stock_d.max(axis=0)"
   ]
  },
  {
   "cell_type": "code",
   "execution_count": 29,
   "metadata": {},
   "outputs": [
    {
     "data": {
      "text/plain": [
       "1"
      ]
     },
     "execution_count": 29,
     "metadata": {},
     "output_type": "execute_result"
    }
   ],
   "source": [
    "stock_d.argmax()"
   ]
  },
  {
   "cell_type": "code",
   "execution_count": 30,
   "metadata": {},
   "outputs": [
    {
     "data": {
      "text/plain": [
       "5"
      ]
     },
     "execution_count": 30,
     "metadata": {},
     "output_type": "execute_result"
    }
   ],
   "source": [
    "stock_d.argmin()"
   ]
  },
  {
   "cell_type": "code",
   "execution_count": 34,
   "metadata": {},
   "outputs": [],
   "source": [
    "arr=np.array([1,2,3,4])"
   ]
  },
  {
   "cell_type": "code",
   "execution_count": 32,
   "metadata": {},
   "outputs": [
    {
     "data": {
      "text/plain": [
       "array([2, 3, 4, 5])"
      ]
     },
     "execution_count": 32,
     "metadata": {},
     "output_type": "execute_result"
    }
   ],
   "source": [
    "arr+1#广播机制"
   ]
  },
  {
   "cell_type": "code",
   "execution_count": 35,
   "metadata": {},
   "outputs": [
    {
     "data": {
      "text/plain": [
       "array([0, 1, 2, 3])"
      ]
     },
     "execution_count": 35,
     "metadata": {},
     "output_type": "execute_result"
    }
   ],
   "source": [
    "arr2=np.array(range(4))\n",
    "arr2"
   ]
  },
  {
   "cell_type": "code",
   "execution_count": 37,
   "metadata": {},
   "outputs": [
    {
     "data": {
      "text/plain": [
       "array([1, 3, 5, 7])"
      ]
     },
     "execution_count": 37,
     "metadata": {},
     "output_type": "execute_result"
    }
   ],
   "source": [
    "arr+arr2"
   ]
  },
  {
   "cell_type": "code",
   "execution_count": 38,
   "metadata": {},
   "outputs": [
    {
     "data": {
      "text/plain": [
       "20"
      ]
     },
     "execution_count": 38,
     "metadata": {},
     "output_type": "execute_result"
    }
   ],
   "source": [
    "np.dot(arr,arr2.T)"
   ]
  }
 ],
 "metadata": {
  "kernelspec": {
   "display_name": "Python 3",
   "language": "python",
   "name": "python3"
  },
  "language_info": {
   "codemirror_mode": {
    "name": "ipython",
    "version": 3
   },
   "file_extension": ".py",
   "mimetype": "text/x-python",
   "name": "python",
   "nbconvert_exporter": "python",
   "pygments_lexer": "ipython3",
   "version": "3.7.6"
  },
  "toc": {
   "base_numbering": 1,
   "nav_menu": {},
   "number_sections": true,
   "sideBar": true,
   "skip_h1_title": false,
   "title_cell": "Table of Contents",
   "title_sidebar": "Contents",
   "toc_cell": false,
   "toc_position": {},
   "toc_section_display": true,
   "toc_window_display": false
  }
 },
 "nbformat": 4,
 "nbformat_minor": 4
}
